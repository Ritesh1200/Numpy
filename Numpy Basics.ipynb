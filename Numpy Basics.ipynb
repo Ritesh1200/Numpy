{
 "cells": [
  {
   "cell_type": "markdown",
   "id": "8be54b39",
   "metadata": {},
   "source": [
    "## Taking help from https://medium.com/analytics-vidhya/numpy-the-very-basics-6ce19206ee22"
   ]
  },
  {
   "cell_type": "code",
   "execution_count": 1,
   "id": "c756cf9b",
   "metadata": {},
   "outputs": [],
   "source": [
    "import numpy as np"
   ]
  },
  {
   "cell_type": "code",
   "execution_count": 2,
   "id": "c1ed8a6a",
   "metadata": {},
   "outputs": [],
   "source": [
    "numpy_array = np.array([[2,5,4],[2,5,6]] , dtype = int)    # multidimentional aray of datatype int "
   ]
  },
  {
   "cell_type": "code",
   "execution_count": 3,
   "id": "ec4981e0",
   "metadata": {
    "scrolled": false
   },
   "outputs": [
    {
     "data": {
      "text/plain": [
       "array([[2, 5, 4],\n",
       "       [2, 5, 6]])"
      ]
     },
     "execution_count": 3,
     "metadata": {},
     "output_type": "execute_result"
    }
   ],
   "source": [
    "numpy_array"
   ]
  },
  {
   "cell_type": "code",
   "execution_count": 4,
   "id": "416df2db",
   "metadata": {},
   "outputs": [
    {
     "data": {
      "text/plain": [
       "6"
      ]
     },
     "execution_count": 4,
     "metadata": {},
     "output_type": "execute_result"
    }
   ],
   "source": [
    "numpy_array[1,2]  #getting the spesific data from an numpy array"
   ]
  },
  {
   "cell_type": "markdown",
   "id": "4c64d5b6",
   "metadata": {},
   "source": [
    "## Different methods for creating array ex. zeros, ones, fill , arrange , linspace , random.randint , np.eye"
   ]
  },
  {
   "cell_type": "code",
   "execution_count": 5,
   "id": "2b039c19",
   "metadata": {},
   "outputs": [],
   "source": [
    "arr = np.zeros((3,5) , dtype = int)  # this method create array of zeros by default datatype is float"
   ]
  },
  {
   "cell_type": "code",
   "execution_count": 6,
   "id": "0abd468b",
   "metadata": {},
   "outputs": [
    {
     "data": {
      "text/plain": [
       "array([[0, 0, 0, 0, 0],\n",
       "       [0, 0, 0, 0, 0],\n",
       "       [0, 0, 0, 0, 0]])"
      ]
     },
     "execution_count": 6,
     "metadata": {},
     "output_type": "execute_result"
    }
   ],
   "source": [
    "arr"
   ]
  },
  {
   "cell_type": "code",
   "execution_count": 7,
   "id": "39afbcc3",
   "metadata": {},
   "outputs": [],
   "source": [
    "arr = np.ones((3,5) , dtype = int) #this create array of 1"
   ]
  },
  {
   "cell_type": "code",
   "execution_count": 8,
   "id": "bfa2a620",
   "metadata": {},
   "outputs": [
    {
     "data": {
      "text/plain": [
       "array([[1, 1, 1, 1, 1],\n",
       "       [1, 1, 1, 1, 1],\n",
       "       [1, 1, 1, 1, 1]])"
      ]
     },
     "execution_count": 8,
     "metadata": {},
     "output_type": "execute_result"
    }
   ],
   "source": [
    "arr"
   ]
  },
  {
   "cell_type": "code",
   "execution_count": 9,
   "id": "0c109720",
   "metadata": {},
   "outputs": [],
   "source": [
    "arr = np.empty([3, 3])"
   ]
  },
  {
   "cell_type": "code",
   "execution_count": 10,
   "id": "98fc1e00",
   "metadata": {},
   "outputs": [],
   "source": [
    "arr.fill(4)  #fill add value in every locaiton"
   ]
  },
  {
   "cell_type": "code",
   "execution_count": 11,
   "id": "9c4d6431",
   "metadata": {},
   "outputs": [
    {
     "data": {
      "text/plain": [
       "array([[4., 4., 4.],\n",
       "       [4., 4., 4.],\n",
       "       [4., 4., 4.]])"
      ]
     },
     "execution_count": 11,
     "metadata": {},
     "output_type": "execute_result"
    }
   ],
   "source": [
    "arr"
   ]
  },
  {
   "cell_type": "raw",
   "id": "bdd25d0f",
   "metadata": {},
   "source": []
  },
  {
   "cell_type": "code",
   "execution_count": 12,
   "id": "d70c30d2",
   "metadata": {},
   "outputs": [],
   "source": [
    "arr = np.arange(2,20 , 2) # arrange create array from starting index , final index , gap"
   ]
  },
  {
   "cell_type": "code",
   "execution_count": 13,
   "id": "b29653d7",
   "metadata": {},
   "outputs": [
    {
     "data": {
      "text/plain": [
       "array([ 2,  4,  6,  8, 10, 12, 14, 16, 18])"
      ]
     },
     "execution_count": 13,
     "metadata": {},
     "output_type": "execute_result"
    }
   ],
   "source": [
    "arr"
   ]
  },
  {
   "cell_type": "code",
   "execution_count": 28,
   "id": "5f682da7",
   "metadata": {},
   "outputs": [],
   "source": [
    "arr = np.linspace(2,3,6) #it create arr of number evenly distributed "
   ]
  },
  {
   "cell_type": "code",
   "execution_count": 29,
   "id": "4e20a7d2",
   "metadata": {},
   "outputs": [
    {
     "data": {
      "text/plain": [
       "array([2. , 2.2, 2.4, 2.6, 2.8, 3. ])"
      ]
     },
     "execution_count": 29,
     "metadata": {},
     "output_type": "execute_result"
    }
   ],
   "source": [
    "arr"
   ]
  },
  {
   "cell_type": "code",
   "execution_count": 30,
   "id": "f835aa49",
   "metadata": {},
   "outputs": [],
   "source": [
    "arr = np.random.randint(0,10,(3,4)) #create array of random number "
   ]
  },
  {
   "cell_type": "code",
   "execution_count": 31,
   "id": "da4549a9",
   "metadata": {},
   "outputs": [
    {
     "data": {
      "text/plain": [
       "array([[7, 1, 2, 1],\n",
       "       [8, 2, 1, 4],\n",
       "       [1, 4, 4, 3]])"
      ]
     },
     "execution_count": 31,
     "metadata": {},
     "output_type": "execute_result"
    }
   ],
   "source": [
    "arr"
   ]
  },
  {
   "cell_type": "code",
   "execution_count": 37,
   "id": "a540da2e",
   "metadata": {},
   "outputs": [],
   "source": [
    "arr = np.eye(3,3) # eye create idintity matrix"
   ]
  },
  {
   "cell_type": "code",
   "execution_count": 38,
   "id": "9dc3a8fd",
   "metadata": {},
   "outputs": [
    {
     "data": {
      "text/plain": [
       "array([[1., 0., 0.],\n",
       "       [0., 1., 0.],\n",
       "       [0., 0., 1.]])"
      ]
     },
     "execution_count": 38,
     "metadata": {},
     "output_type": "execute_result"
    }
   ],
   "source": [
    "arr"
   ]
  },
  {
   "cell_type": "markdown",
   "id": "80257902",
   "metadata": {},
   "source": [
    "## Attributes of numpy"
   ]
  },
  {
   "cell_type": "code",
   "execution_count": 43,
   "id": "acd16e35",
   "metadata": {},
   "outputs": [],
   "source": [
    "arr = np.random.randint(1,10, (3,4,5))"
   ]
  },
  {
   "cell_type": "code",
   "execution_count": 44,
   "id": "019abfcd",
   "metadata": {},
   "outputs": [
    {
     "data": {
      "text/plain": [
       "array([[[2, 8, 2, 7, 2],\n",
       "        [3, 9, 6, 8, 1],\n",
       "        [1, 9, 9, 9, 4],\n",
       "        [9, 1, 4, 2, 7]],\n",
       "\n",
       "       [[3, 7, 7, 4, 6],\n",
       "        [6, 7, 6, 2, 6],\n",
       "        [7, 3, 5, 6, 2],\n",
       "        [6, 3, 9, 7, 9]],\n",
       "\n",
       "       [[2, 1, 5, 6, 5],\n",
       "        [6, 6, 4, 8, 4],\n",
       "        [5, 8, 7, 2, 8],\n",
       "        [5, 9, 8, 7, 5]]])"
      ]
     },
     "execution_count": 44,
     "metadata": {},
     "output_type": "execute_result"
    }
   ],
   "source": [
    "arr"
   ]
  },
  {
   "cell_type": "code",
   "execution_count": 52,
   "id": "4c125a22",
   "metadata": {},
   "outputs": [
    {
     "data": {
      "text/plain": [
       "3"
      ]
     },
     "execution_count": 52,
     "metadata": {},
     "output_type": "execute_result"
    }
   ],
   "source": [
    "arr.ndim #number of dimention"
   ]
  },
  {
   "cell_type": "code",
   "execution_count": 53,
   "id": "f756619b",
   "metadata": {},
   "outputs": [
    {
     "data": {
      "text/plain": [
       "(3, 4, 5)"
      ]
     },
     "execution_count": 53,
     "metadata": {},
     "output_type": "execute_result"
    }
   ],
   "source": [
    "arr.shape #shape"
   ]
  },
  {
   "cell_type": "code",
   "execution_count": 56,
   "id": "b346076d",
   "metadata": {},
   "outputs": [
    {
     "data": {
      "text/plain": [
       "60"
      ]
     },
     "execution_count": 56,
     "metadata": {},
     "output_type": "execute_result"
    }
   ],
   "source": [
    "arr.size #size"
   ]
  },
  {
   "cell_type": "code",
   "execution_count": 57,
   "id": "3e4b9cbd",
   "metadata": {},
   "outputs": [
    {
     "data": {
      "text/plain": [
       "dtype('int32')"
      ]
     },
     "execution_count": 57,
     "metadata": {},
     "output_type": "execute_result"
    }
   ],
   "source": [
    "arr.dtype #datatype"
   ]
  },
  {
   "cell_type": "code",
   "execution_count": 58,
   "id": "2e4c575b",
   "metadata": {},
   "outputs": [
    {
     "data": {
      "text/plain": [
       "4"
      ]
     },
     "execution_count": 58,
     "metadata": {},
     "output_type": "execute_result"
    }
   ],
   "source": [
    "arr.itemsize #Byte size of each array element."
   ]
  },
  {
   "cell_type": "code",
   "execution_count": 60,
   "id": "d22e2552",
   "metadata": {},
   "outputs": [
    {
     "data": {
      "text/plain": [
       "240"
      ]
     },
     "execution_count": 60,
     "metadata": {},
     "output_type": "execute_result"
    }
   ],
   "source": [
    "arr.nbytes # total Byte size of array elements."
   ]
  },
  {
   "cell_type": "markdown",
   "id": "34f5c72d",
   "metadata": {},
   "source": [
    "## Array indexing"
   ]
  },
  {
   "cell_type": "code",
   "execution_count": 66,
   "id": "5d24f640",
   "metadata": {},
   "outputs": [],
   "source": [
    "arr = np.random.randint(1,5,(5,4))"
   ]
  },
  {
   "cell_type": "code",
   "execution_count": 67,
   "id": "c2f41859",
   "metadata": {},
   "outputs": [
    {
     "data": {
      "text/plain": [
       "array([[4, 1, 1, 4],\n",
       "       [4, 4, 2, 2],\n",
       "       [2, 3, 2, 1],\n",
       "       [4, 1, 3, 4],\n",
       "       [4, 3, 2, 1]])"
      ]
     },
     "execution_count": 67,
     "metadata": {},
     "output_type": "execute_result"
    }
   ],
   "source": [
    "arr"
   ]
  },
  {
   "cell_type": "code",
   "execution_count": 69,
   "id": "aee17883",
   "metadata": {},
   "outputs": [
    {
     "data": {
      "text/plain": [
       "1"
      ]
     },
     "execution_count": 69,
     "metadata": {},
     "output_type": "execute_result"
    }
   ],
   "source": [
    "arr[2,3]"
   ]
  },
  {
   "cell_type": "code",
   "execution_count": 72,
   "id": "75cabdb2",
   "metadata": {},
   "outputs": [
    {
     "data": {
      "text/plain": [
       "2"
      ]
     },
     "execution_count": 72,
     "metadata": {},
     "output_type": "execute_result"
    }
   ],
   "source": [
    "arr[-1,-2] #negative indexing start from end"
   ]
  },
  {
   "cell_type": "markdown",
   "id": "9c0e3513",
   "metadata": {},
   "source": [
    "## Array slicing"
   ]
  },
  {
   "cell_type": "code",
   "execution_count": 76,
   "id": "cdd68008",
   "metadata": {},
   "outputs": [],
   "source": [
    "arr = np.arange(10)  # array_variable[start : stop: step]"
   ]
  },
  {
   "cell_type": "code",
   "execution_count": 77,
   "id": "25306c2b",
   "metadata": {},
   "outputs": [
    {
     "data": {
      "text/plain": [
       "array([0, 1, 2, 3, 4, 5, 6, 7, 8, 9])"
      ]
     },
     "execution_count": 77,
     "metadata": {},
     "output_type": "execute_result"
    }
   ],
   "source": [
    "arr"
   ]
  },
  {
   "cell_type": "code",
   "execution_count": 79,
   "id": "67ac5ec8",
   "metadata": {},
   "outputs": [
    {
     "data": {
      "text/plain": [
       "array([0, 1, 2, 3, 4, 5, 6, 7, 8, 9])"
      ]
     },
     "execution_count": 79,
     "metadata": {},
     "output_type": "execute_result"
    }
   ],
   "source": [
    "arr[::]"
   ]
  },
  {
   "cell_type": "code",
   "execution_count": 80,
   "id": "6424bb88",
   "metadata": {},
   "outputs": [
    {
     "data": {
      "text/plain": [
       "array([2, 3, 4])"
      ]
     },
     "execution_count": 80,
     "metadata": {},
     "output_type": "execute_result"
    }
   ],
   "source": [
    "arr[2:5]"
   ]
  },
  {
   "cell_type": "code",
   "execution_count": 82,
   "id": "0642e850",
   "metadata": {},
   "outputs": [
    {
     "data": {
      "text/plain": [
       "array([4, 3, 2, 1, 0])"
      ]
     },
     "execution_count": 82,
     "metadata": {},
     "output_type": "execute_result"
    }
   ],
   "source": [
    "arr[4: : -1]"
   ]
  },
  {
   "cell_type": "code",
   "execution_count": 83,
   "id": "1d3f1c85",
   "metadata": {},
   "outputs": [],
   "source": [
    "arr = np.random.randint(1,10,(4,5))"
   ]
  },
  {
   "cell_type": "code",
   "execution_count": 84,
   "id": "365af3ed",
   "metadata": {},
   "outputs": [
    {
     "data": {
      "text/plain": [
       "array([[8, 3, 7, 3, 2],\n",
       "       [6, 6, 3, 2, 6],\n",
       "       [4, 3, 7, 6, 5],\n",
       "       [9, 7, 9, 6, 1]])"
      ]
     },
     "execution_count": 84,
     "metadata": {},
     "output_type": "execute_result"
    }
   ],
   "source": [
    "arr"
   ]
  },
  {
   "cell_type": "code",
   "execution_count": 85,
   "id": "b852e1dc",
   "metadata": {},
   "outputs": [
    {
     "data": {
      "text/plain": [
       "array([[9, 6]])"
      ]
     },
     "execution_count": 85,
     "metadata": {},
     "output_type": "execute_result"
    }
   ],
   "source": [
    "arr[3:4:2,2:4:1]"
   ]
  },
  {
   "cell_type": "markdown",
   "id": "df0ebe96",
   "metadata": {},
   "source": [
    "## Concatinting and splitting"
   ]
  },
  {
   "cell_type": "code",
   "execution_count": 91,
   "id": "470c04ff",
   "metadata": {},
   "outputs": [],
   "source": [
    "a= np.array([ 1,2,3,4 ])\n",
    "b=np.array([5,6,7,8])\n",
    "c=np.array([[9,8,7,6],[5,4,3,2]])\n",
    "d=np.array([[5,6],[4,7]])"
   ]
  },
  {
   "cell_type": "code",
   "execution_count": 92,
   "id": "32c16145",
   "metadata": {},
   "outputs": [
    {
     "data": {
      "text/plain": [
       "array([1, 2, 3, 4, 5, 6, 7, 8])"
      ]
     },
     "execution_count": 92,
     "metadata": {},
     "output_type": "execute_result"
    }
   ],
   "source": [
    "np.concatenate([a,b]) #it concat"
   ]
  },
  {
   "cell_type": "code",
   "execution_count": 93,
   "id": "c7707820",
   "metadata": {},
   "outputs": [
    {
     "data": {
      "text/plain": [
       "array([[1, 2, 3, 4],\n",
       "       [9, 8, 7, 6],\n",
       "       [5, 4, 3, 2]])"
      ]
     },
     "execution_count": 93,
     "metadata": {},
     "output_type": "execute_result"
    }
   ],
   "source": [
    "np.vstack([a,c])  #vertically cocat"
   ]
  },
  {
   "cell_type": "code",
   "execution_count": 95,
   "id": "28cfe9d3",
   "metadata": {},
   "outputs": [
    {
     "data": {
      "text/plain": [
       "array([[9, 8, 7, 6, 5, 6],\n",
       "       [5, 4, 3, 2, 4, 7]])"
      ]
     },
     "execution_count": 95,
     "metadata": {},
     "output_type": "execute_result"
    }
   ],
   "source": [
    "np.hstack([c,d])  # horizantally cocat"
   ]
  },
  {
   "cell_type": "code",
   "execution_count": 99,
   "id": "1ad9d997",
   "metadata": {},
   "outputs": [],
   "source": [
    "x1, x2, x3 = np.split(arr,[3,5]) # also there is hsplit and vsplit"
   ]
  },
  {
   "cell_type": "code",
   "execution_count": 100,
   "id": "5b9e9407",
   "metadata": {},
   "outputs": [
    {
     "data": {
      "text/plain": [
       "(array([[8, 3, 7, 3, 2],\n",
       "        [6, 6, 3, 2, 6],\n",
       "        [4, 3, 7, 6, 5]]),\n",
       " array([[9, 7, 9, 6, 1]]),\n",
       " array([], shape=(0, 5), dtype=int32))"
      ]
     },
     "execution_count": 100,
     "metadata": {},
     "output_type": "execute_result"
    }
   ],
   "source": [
    "x1,x2,x3"
   ]
  },
  {
   "cell_type": "code",
   "execution_count": 101,
   "id": "70ae0271",
   "metadata": {},
   "outputs": [
    {
     "data": {
      "text/plain": [
       "array([[1, 2],\n",
       "       [3, 4]])"
      ]
     },
     "execution_count": 101,
     "metadata": {},
     "output_type": "execute_result"
    }
   ],
   "source": [
    "a.reshape(2,2)"
   ]
  },
  {
   "cell_type": "code",
   "execution_count": null,
   "id": "327a8e68",
   "metadata": {},
   "outputs": [],
   "source": []
  }
 ],
 "metadata": {
  "kernelspec": {
   "display_name": "Python 3 (ipykernel)",
   "language": "python",
   "name": "python3"
  },
  "language_info": {
   "codemirror_mode": {
    "name": "ipython",
    "version": 3
   },
   "file_extension": ".py",
   "mimetype": "text/x-python",
   "name": "python",
   "nbconvert_exporter": "python",
   "pygments_lexer": "ipython3",
   "version": "3.10.0"
  }
 },
 "nbformat": 4,
 "nbformat_minor": 5
}
