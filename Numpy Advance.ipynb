{
 "cells": [
  {
   "cell_type": "markdown",
   "id": "ca507bdb",
   "metadata": {},
   "source": [
    "## Taking refrence from https://medium.com/analytics-vidhya/advanced-numpy-218584c60c63"
   ]
  },
  {
   "cell_type": "code",
   "execution_count": 1,
   "id": "ab45ca13",
   "metadata": {},
   "outputs": [],
   "source": [
    "import numpy as np"
   ]
  },
  {
   "cell_type": "markdown",
   "id": "4d32cf57",
   "metadata": {},
   "source": [
    "## Universal functions (ufuncs)"
   ]
  },
  {
   "cell_type": "code",
   "execution_count": 2,
   "id": "d12167a6",
   "metadata": {},
   "outputs": [],
   "source": [
    "arr1 = np.random.randint(1,10 , 10)"
   ]
  },
  {
   "cell_type": "code",
   "execution_count": 3,
   "id": "ed083f7e",
   "metadata": {},
   "outputs": [],
   "source": [
    "arr2 = np.random.randint(1,10 , 10)"
   ]
  },
  {
   "cell_type": "code",
   "execution_count": 4,
   "id": "9c900ed9",
   "metadata": {},
   "outputs": [
    {
     "data": {
      "text/plain": [
       "array([5, 3, 5, 5, 9, 3, 5, 2, 3, 6])"
      ]
     },
     "execution_count": 4,
     "metadata": {},
     "output_type": "execute_result"
    }
   ],
   "source": [
    "arr1"
   ]
  },
  {
   "cell_type": "code",
   "execution_count": 5,
   "id": "b23b2c28",
   "metadata": {},
   "outputs": [
    {
     "data": {
      "text/plain": [
       "array([6, 3, 7, 2, 5, 6, 5, 3, 1, 1])"
      ]
     },
     "execution_count": 5,
     "metadata": {},
     "output_type": "execute_result"
    }
   ],
   "source": [
    "arr2"
   ]
  },
  {
   "cell_type": "code",
   "execution_count": 6,
   "id": "65462c9c",
   "metadata": {},
   "outputs": [],
   "source": [
    "arr = np.add(arr1 , arr2)  #add function"
   ]
  },
  {
   "cell_type": "code",
   "execution_count": 7,
   "id": "00e90dfe",
   "metadata": {},
   "outputs": [
    {
     "data": {
      "text/plain": [
       "array([11,  6, 12,  7, 14,  9, 10,  5,  4,  7])"
      ]
     },
     "execution_count": 7,
     "metadata": {},
     "output_type": "execute_result"
    }
   ],
   "source": [
    "arr"
   ]
  },
  {
   "cell_type": "code",
   "execution_count": 8,
   "id": "feec337d",
   "metadata": {},
   "outputs": [],
   "source": [
    "# other function are subtract , negative , multiply , divide , floor_divide , power , mod"
   ]
  },
  {
   "cell_type": "code",
   "execution_count": 9,
   "id": "c23b06ff",
   "metadata": {},
   "outputs": [
    {
     "data": {
      "text/plain": [
       "2.9444389791664403"
      ]
     },
     "execution_count": 9,
     "metadata": {},
     "output_type": "execute_result"
    }
   ],
   "source": [
    "np.log(19) # we can do the log as well"
   ]
  },
  {
   "cell_type": "code",
   "execution_count": 10,
   "id": "46177cf7",
   "metadata": {},
   "outputs": [
    {
     "data": {
      "text/plain": [
       "2"
      ]
     },
     "execution_count": 10,
     "metadata": {},
     "output_type": "execute_result"
    }
   ],
   "source": [
    "arr1.min()"
   ]
  },
  {
   "cell_type": "code",
   "execution_count": 11,
   "id": "53c3108d",
   "metadata": {},
   "outputs": [
    {
     "data": {
      "text/plain": [
       "14"
      ]
     },
     "execution_count": 11,
     "metadata": {},
     "output_type": "execute_result"
    }
   ],
   "source": [
    "arr.max()"
   ]
  },
  {
   "cell_type": "code",
   "execution_count": 12,
   "id": "f8208cac",
   "metadata": {},
   "outputs": [
    {
     "data": {
      "text/plain": [
       "85"
      ]
     },
     "execution_count": 12,
     "metadata": {},
     "output_type": "execute_result"
    }
   ],
   "source": [
    "arr.sum()"
   ]
  },
  {
   "cell_type": "code",
   "execution_count": 13,
   "id": "c0881701",
   "metadata": {},
   "outputs": [],
   "source": [
    "arr = np.random.randint(30 , 90 , (4 , 8))"
   ]
  },
  {
   "cell_type": "code",
   "execution_count": 14,
   "id": "2caad488",
   "metadata": {},
   "outputs": [
    {
     "data": {
      "text/plain": [
       "array([[47, 62, 36, 41, 39, 38, 66, 84],\n",
       "       [87, 72, 63, 55, 59, 49, 34, 49],\n",
       "       [33, 79, 33, 59, 85, 71, 84, 58],\n",
       "       [83, 73, 44, 38, 68, 68, 42, 65]])"
      ]
     },
     "execution_count": 14,
     "metadata": {},
     "output_type": "execute_result"
    }
   ],
   "source": [
    "arr"
   ]
  },
  {
   "cell_type": "code",
   "execution_count": 15,
   "id": "19ebb0ea",
   "metadata": {},
   "outputs": [],
   "source": [
    "#to calculate minimum of all in every row and column"
   ]
  },
  {
   "cell_type": "code",
   "execution_count": 16,
   "id": "c53e3729",
   "metadata": {},
   "outputs": [
    {
     "data": {
      "text/plain": [
       "array([33, 62, 33, 38, 39, 38, 34, 49])"
      ]
     },
     "execution_count": 16,
     "metadata": {},
     "output_type": "execute_result"
    }
   ],
   "source": [
    "arr.min(axis = 0)  #column wise"
   ]
  },
  {
   "cell_type": "code",
   "execution_count": 17,
   "id": "5ba25626",
   "metadata": {},
   "outputs": [
    {
     "data": {
      "text/plain": [
       "array([36, 34, 33, 38])"
      ]
     },
     "execution_count": 17,
     "metadata": {},
     "output_type": "execute_result"
    }
   ],
   "source": [
    "arr.min(axis = 1)  #row wise"
   ]
  },
  {
   "cell_type": "code",
   "execution_count": 18,
   "id": "4ccbeb8d",
   "metadata": {},
   "outputs": [],
   "source": [
    "# we must use universal function in numpy because normal min max function that povided by python is act differenty in \n",
    "# multidimentional array and we can use axis in numpy as well\n"
   ]
  },
  {
   "cell_type": "markdown",
   "id": "c08644d5",
   "metadata": {},
   "source": [
    "## Broadcasting"
   ]
  },
  {
   "cell_type": "code",
   "execution_count": 19,
   "id": "801924e4",
   "metadata": {},
   "outputs": [],
   "source": [
    "# Broadcasting is nothing but a set of rules applied by NumPy to perform unfuncs on arrays of different sizes."
   ]
  },
  {
   "cell_type": "code",
   "execution_count": 20,
   "id": "10c9862c",
   "metadata": {},
   "outputs": [],
   "source": [
    "# rule says that the less size array must be streshed equal to larger one then do the operation"
   ]
  },
  {
   "cell_type": "code",
   "execution_count": 21,
   "id": "450dd2b6",
   "metadata": {},
   "outputs": [],
   "source": [
    "arr1 = np.arange(3)"
   ]
  },
  {
   "cell_type": "code",
   "execution_count": 22,
   "id": "5b22e6d7",
   "metadata": {},
   "outputs": [],
   "source": [
    "arr2 = np.arange(3).reshape(3,1) # reshape changes the shape or array"
   ]
  },
  {
   "cell_type": "code",
   "execution_count": 23,
   "id": "e6124e28",
   "metadata": {},
   "outputs": [
    {
     "data": {
      "text/plain": [
       "array([0, 1, 2])"
      ]
     },
     "execution_count": 23,
     "metadata": {},
     "output_type": "execute_result"
    }
   ],
   "source": [
    "arr1"
   ]
  },
  {
   "cell_type": "code",
   "execution_count": 24,
   "id": "3f4b9bbe",
   "metadata": {},
   "outputs": [
    {
     "data": {
      "text/plain": [
       "array([[0],\n",
       "       [1],\n",
       "       [2]])"
      ]
     },
     "execution_count": 24,
     "metadata": {},
     "output_type": "execute_result"
    }
   ],
   "source": [
    "arr2"
   ]
  },
  {
   "cell_type": "code",
   "execution_count": 25,
   "id": "332a799b",
   "metadata": {},
   "outputs": [],
   "source": [
    "arr3 = np.add(arr1,arr2) # in this they both streshed to the 3,3 size"
   ]
  },
  {
   "cell_type": "code",
   "execution_count": 26,
   "id": "9173b67e",
   "metadata": {},
   "outputs": [
    {
     "data": {
      "text/plain": [
       "(3,)"
      ]
     },
     "execution_count": 26,
     "metadata": {},
     "output_type": "execute_result"
    }
   ],
   "source": [
    "arr1.shape #1,3"
   ]
  },
  {
   "cell_type": "code",
   "execution_count": 27,
   "id": "edbe0647",
   "metadata": {},
   "outputs": [
    {
     "data": {
      "text/plain": [
       "(3, 1)"
      ]
     },
     "execution_count": 27,
     "metadata": {},
     "output_type": "execute_result"
    }
   ],
   "source": [
    "arr2.shape"
   ]
  },
  {
   "cell_type": "code",
   "execution_count": 28,
   "id": "3656ca0a",
   "metadata": {},
   "outputs": [
    {
     "data": {
      "text/plain": [
       "(3, 3)"
      ]
     },
     "execution_count": 28,
     "metadata": {},
     "output_type": "execute_result"
    }
   ],
   "source": [
    "arr3.shape   # they both streshed to the 3,3 size"
   ]
  },
  {
   "cell_type": "markdown",
   "id": "ba08bd76",
   "metadata": {},
   "source": [
    "## Masking"
   ]
  },
  {
   "cell_type": "code",
   "execution_count": 29,
   "id": "03f68ebc",
   "metadata": {},
   "outputs": [],
   "source": [
    "# It allows us to extract, count, modify or manipulate values in an array based on certain criteria, \n",
    "# these criteria are specified using comparison operators and boolean operators."
   ]
  },
  {
   "cell_type": "code",
   "execution_count": 30,
   "id": "04cd4280",
   "metadata": {},
   "outputs": [],
   "source": [
    "arr = np.random.randint(10 , size= (3,4))"
   ]
  },
  {
   "cell_type": "code",
   "execution_count": 31,
   "id": "cab40f9e",
   "metadata": {},
   "outputs": [
    {
     "data": {
      "text/plain": [
       "array([[1, 7, 9, 4],\n",
       "       [1, 2, 0, 8],\n",
       "       [4, 5, 9, 6]])"
      ]
     },
     "execution_count": 31,
     "metadata": {},
     "output_type": "execute_result"
    }
   ],
   "source": [
    "arr"
   ]
  },
  {
   "cell_type": "code",
   "execution_count": 32,
   "id": "dd5d52f9",
   "metadata": {},
   "outputs": [],
   "source": [
    "# print all values where value is less then 5"
   ]
  },
  {
   "cell_type": "code",
   "execution_count": 33,
   "id": "1d94f4de",
   "metadata": {},
   "outputs": [
    {
     "data": {
      "text/plain": [
       "[array([[ True, False, False,  True],\n",
       "        [ True,  True,  True, False],\n",
       "        [ True, False, False, False]])]"
      ]
     },
     "execution_count": 33,
     "metadata": {},
     "output_type": "execute_result"
    }
   ],
   "source": [
    "[arr <5 ] #it give bool array"
   ]
  },
  {
   "cell_type": "code",
   "execution_count": 34,
   "id": "e0f5a345",
   "metadata": {},
   "outputs": [
    {
     "data": {
      "text/plain": [
       "array([1, 4, 1, 2, 0, 4])"
      ]
     },
     "execution_count": 34,
     "metadata": {},
     "output_type": "execute_result"
    }
   ],
   "source": [
    "arr[arr < 5]  # inner part of square bracker gives the array of boolean and if the value is true so outer 'arr' will print other wise false"
   ]
  },
  {
   "cell_type": "code",
   "execution_count": 35,
   "id": "2ae8ebf0",
   "metadata": {},
   "outputs": [],
   "source": [
    "# we can do the complex queries from that like we do in conditional statement"
   ]
  },
  {
   "cell_type": "code",
   "execution_count": 36,
   "id": "7ea2bb52",
   "metadata": {},
   "outputs": [
    {
     "data": {
      "text/plain": [
       "array([4, 4, 5])"
      ]
     },
     "execution_count": 36,
     "metadata": {},
     "output_type": "execute_result"
    }
   ],
   "source": [
    "arr[(arr < 6 ) & ( arr > 3 )]"
   ]
  },
  {
   "cell_type": "code",
   "execution_count": 37,
   "id": "1067792c",
   "metadata": {},
   "outputs": [],
   "source": [
    "# The keyword ‘and’ and ‘or’ performs single boolean operation on entire array while \n",
    "# bitwise ‘&’ and ‘|’ performs multiple boolean operations on elements of an array. \n",
    "# Always use bit-wise operators while masking."
   ]
  },
  {
   "cell_type": "markdown",
   "id": "11886b53",
   "metadata": {},
   "source": [
    "## Fancy indexing"
   ]
  },
  {
   "cell_type": "code",
   "execution_count": 38,
   "id": "2b88e7ab",
   "metadata": {},
   "outputs": [],
   "source": [
    "arr = np.random.randint(50 , size = 20)"
   ]
  },
  {
   "cell_type": "code",
   "execution_count": 39,
   "id": "6179ce23",
   "metadata": {},
   "outputs": [
    {
     "data": {
      "text/plain": [
       "array([17,  5, 24, 38, 23, 27, 31,  6, 10, 39,  2,  9,  3, 13, 47, 11, 16,\n",
       "       29, 21,  3])"
      ]
     },
     "execution_count": 39,
     "metadata": {},
     "output_type": "execute_result"
    }
   ],
   "source": [
    "arr"
   ]
  },
  {
   "cell_type": "code",
   "execution_count": 40,
   "id": "a89061d4",
   "metadata": {},
   "outputs": [
    {
     "name": "stdout",
     "output_type": "stream",
     "text": [
      "24 6\n"
     ]
    }
   ],
   "source": [
    "print(arr[2] , arr[7])"
   ]
  },
  {
   "cell_type": "code",
   "execution_count": 41,
   "id": "bf27c7e6",
   "metadata": {},
   "outputs": [],
   "source": [
    "#we can improve that "
   ]
  },
  {
   "cell_type": "code",
   "execution_count": 42,
   "id": "6422a435",
   "metadata": {},
   "outputs": [
    {
     "data": {
      "text/plain": [
       "array([24,  6])"
      ]
     },
     "execution_count": 42,
     "metadata": {},
     "output_type": "execute_result"
    }
   ],
   "source": [
    "arr[[2,7]]  # it takes array of indexes "
   ]
  },
  {
   "cell_type": "code",
   "execution_count": 43,
   "id": "02f9a76f",
   "metadata": {},
   "outputs": [],
   "source": [
    "# for 2d array"
   ]
  },
  {
   "cell_type": "code",
   "execution_count": 44,
   "id": "512c318b",
   "metadata": {},
   "outputs": [],
   "source": [
    "arr = np.random.randint(30 , size = (10,5))"
   ]
  },
  {
   "cell_type": "code",
   "execution_count": 45,
   "id": "2b802d52",
   "metadata": {},
   "outputs": [
    {
     "data": {
      "text/plain": [
       "array([[15, 12, 27,  1, 21],\n",
       "       [17, 29, 14, 12,  3],\n",
       "       [ 2,  7, 13,  4,  4],\n",
       "       [14,  8,  8, 17, 22],\n",
       "       [ 1, 23,  8, 28,  3],\n",
       "       [ 3,  1, 23,  2, 29],\n",
       "       [23, 23, 19, 23, 26],\n",
       "       [14,  5,  7, 13, 12],\n",
       "       [ 5, 18, 26,  8,  0],\n",
       "       [ 0,  0, 24, 26,  9]])"
      ]
     },
     "execution_count": 45,
     "metadata": {},
     "output_type": "execute_result"
    }
   ],
   "source": [
    "arr"
   ]
  },
  {
   "cell_type": "code",
   "execution_count": 46,
   "id": "d550177b",
   "metadata": {},
   "outputs": [
    {
     "data": {
      "text/plain": [
       "array([ 4,  8,  4, 14])"
      ]
     },
     "execution_count": 46,
     "metadata": {},
     "output_type": "execute_result"
    }
   ],
   "source": [
    "row = [2,3,2,1]\n",
    "col = [3,1,3,2]\n",
    "arr[row , col]"
   ]
  },
  {
   "cell_type": "code",
   "execution_count": 47,
   "id": "3e79177a",
   "metadata": {},
   "outputs": [
    {
     "data": {
      "text/plain": [
       "array([17,  8, 17,  8])"
      ]
     },
     "execution_count": 47,
     "metadata": {},
     "output_type": "execute_result"
    }
   ],
   "source": [
    "arr[ 3, col]"
   ]
  },
  {
   "cell_type": "markdown",
   "id": "17bc43bd",
   "metadata": {},
   "source": [
    "## Sorting"
   ]
  },
  {
   "cell_type": "code",
   "execution_count": 48,
   "id": "eef82bb1",
   "metadata": {},
   "outputs": [],
   "source": [
    "# np.sort is a more efficient sorting function than Python’s built-in sort function. \n",
    "# Additionally, np.sort is aware of dimensions"
   ]
  },
  {
   "cell_type": "code",
   "execution_count": 49,
   "id": "4e54f245",
   "metadata": {},
   "outputs": [],
   "source": [
    "arr = np.random.randint(30 , size = 20)"
   ]
  },
  {
   "cell_type": "code",
   "execution_count": 50,
   "id": "e0fb4619",
   "metadata": {},
   "outputs": [
    {
     "data": {
      "text/plain": [
       "array([15, 22, 11, 23, 15, 17,  9, 10,  2, 25, 22,  0, 15, 23, 12, 28,  2,\n",
       "        6, 14, 22])"
      ]
     },
     "execution_count": 50,
     "metadata": {},
     "output_type": "execute_result"
    }
   ],
   "source": [
    "arr"
   ]
  },
  {
   "cell_type": "code",
   "execution_count": 51,
   "id": "f110c3a2",
   "metadata": {},
   "outputs": [],
   "source": [
    "arr.sort()  # the sorting in numpy is in-place sorting means we lost the order of previous array"
   ]
  },
  {
   "cell_type": "code",
   "execution_count": 52,
   "id": "7ed0cc7e",
   "metadata": {},
   "outputs": [
    {
     "data": {
      "text/plain": [
       "array([ 0,  2,  2,  6,  9, 10, 11, 12, 14, 15, 15, 15, 17, 22, 22, 22, 23,\n",
       "       23, 25, 28])"
      ]
     },
     "execution_count": 52,
     "metadata": {},
     "output_type": "execute_result"
    }
   ],
   "source": [
    "arr"
   ]
  },
  {
   "cell_type": "code",
   "execution_count": null,
   "id": "961692d7",
   "metadata": {},
   "outputs": [],
   "source": []
  }
 ],
 "metadata": {
  "kernelspec": {
   "display_name": "Python 3 (ipykernel)",
   "language": "python",
   "name": "python3"
  },
  "language_info": {
   "codemirror_mode": {
    "name": "ipython",
    "version": 3
   },
   "file_extension": ".py",
   "mimetype": "text/x-python",
   "name": "python",
   "nbconvert_exporter": "python",
   "pygments_lexer": "ipython3",
   "version": "3.10.0"
  }
 },
 "nbformat": 4,
 "nbformat_minor": 5
}
