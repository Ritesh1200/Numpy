{
 "cells": [
  {
   "cell_type": "markdown",
   "id": "e9d43f87",
   "metadata": {},
   "source": [
    "## Taking refrence from https://medium.com/analytics-vidhya/advanced-numpy-218584c60c63"
   ]
  },
  {
   "cell_type": "code",
   "execution_count": 1,
   "id": "1f2a3d9f",
   "metadata": {},
   "outputs": [],
   "source": [
    "import numpy as np"
   ]
  },
  {
   "cell_type": "markdown",
   "id": "74c37385",
   "metadata": {},
   "source": [
    "## Universal functions (ufuncs)"
   ]
  },
  {
   "cell_type": "code",
   "execution_count": 2,
   "id": "ba7281f5",
   "metadata": {},
   "outputs": [],
   "source": [
    "arr1 = np.random.randint(1,10 , 10)"
   ]
  },
  {
   "cell_type": "code",
   "execution_count": 3,
   "id": "85d4d14d",
   "metadata": {},
   "outputs": [],
   "source": [
    "arr2 = np.random.randint(1,10 , 10)"
   ]
  },
  {
   "cell_type": "code",
   "execution_count": 4,
   "id": "3ae5a15f",
   "metadata": {},
   "outputs": [
    {
     "data": {
      "text/plain": [
       "array([5, 3, 5, 5, 9, 3, 5, 2, 3, 6])"
      ]
     },
     "execution_count": 4,
     "metadata": {},
     "output_type": "execute_result"
    }
   ],
   "source": [
    "arr1"
   ]
  },
  {
   "cell_type": "code",
   "execution_count": 5,
   "id": "33757232",
   "metadata": {},
   "outputs": [
    {
     "data": {
      "text/plain": [
       "array([6, 3, 7, 2, 5, 6, 5, 3, 1, 1])"
      ]
     },
     "execution_count": 5,
     "metadata": {},
     "output_type": "execute_result"
    }
   ],
   "source": [
    "arr2"
   ]
  },
  {
   "cell_type": "code",
   "execution_count": 6,
   "id": "60c0c1e8",
   "metadata": {},
   "outputs": [],
   "source": [
    "arr = np.add(arr1 , arr2)  #add function"
   ]
  },
  {
   "cell_type": "code",
   "execution_count": 7,
   "id": "c351b51e",
   "metadata": {},
   "outputs": [
    {
     "data": {
      "text/plain": [
       "array([11,  6, 12,  7, 14,  9, 10,  5,  4,  7])"
      ]
     },
     "execution_count": 7,
     "metadata": {},
     "output_type": "execute_result"
    }
   ],
   "source": [
    "arr"
   ]
  },
  {
   "cell_type": "code",
   "execution_count": 8,
   "id": "24d4a08f",
   "metadata": {},
   "outputs": [],
   "source": [
    "# other function are subtract , negative , multiply , divide , floor_divide , power , mod"
   ]
  },
  {
   "cell_type": "code",
   "execution_count": 9,
   "id": "60d9b56c",
   "metadata": {},
   "outputs": [
    {
     "data": {
      "text/plain": [
       "2.9444389791664403"
      ]
     },
     "execution_count": 9,
     "metadata": {},
     "output_type": "execute_result"
    }
   ],
   "source": [
    "np.log(19) # we can do the log as well"
   ]
  },
  {
   "cell_type": "code",
   "execution_count": 10,
   "id": "e9310f7f",
   "metadata": {},
   "outputs": [
    {
     "data": {
      "text/plain": [
       "2"
      ]
     },
     "execution_count": 10,
     "metadata": {},
     "output_type": "execute_result"
    }
   ],
   "source": [
    "arr1.min()"
   ]
  },
  {
   "cell_type": "code",
   "execution_count": 11,
   "id": "0a6fb33d",
   "metadata": {},
   "outputs": [
    {
     "data": {
      "text/plain": [
       "14"
      ]
     },
     "execution_count": 11,
     "metadata": {},
     "output_type": "execute_result"
    }
   ],
   "source": [
    "arr.max()"
   ]
  },
  {
   "cell_type": "code",
   "execution_count": 12,
   "id": "11735959",
   "metadata": {},
   "outputs": [
    {
     "data": {
      "text/plain": [
       "85"
      ]
     },
     "execution_count": 12,
     "metadata": {},
     "output_type": "execute_result"
    }
   ],
   "source": [
    "arr.sum()"
   ]
  },
  {
   "cell_type": "code",
   "execution_count": 13,
   "id": "917caa03",
   "metadata": {},
   "outputs": [],
   "source": [
    "arr = np.random.randint(30 , 90 , (4 , 8))"
   ]
  },
  {
   "cell_type": "code",
   "execution_count": 14,
   "id": "faef7033",
   "metadata": {},
   "outputs": [
    {
     "data": {
      "text/plain": [
       "array([[47, 62, 36, 41, 39, 38, 66, 84],\n",
       "       [87, 72, 63, 55, 59, 49, 34, 49],\n",
       "       [33, 79, 33, 59, 85, 71, 84, 58],\n",
       "       [83, 73, 44, 38, 68, 68, 42, 65]])"
      ]
     },
     "execution_count": 14,
     "metadata": {},
     "output_type": "execute_result"
    }
   ],
   "source": [
    "arr"
   ]
  },
  {
   "cell_type": "code",
   "execution_count": 15,
   "id": "d87c9ee5",
   "metadata": {},
   "outputs": [],
   "source": [
    "#to calculate minimum of all in every row and column"
   ]
  },
  {
   "cell_type": "code",
   "execution_count": 16,
   "id": "bbd2b2a1",
   "metadata": {},
   "outputs": [
    {
     "data": {
      "text/plain": [
       "array([33, 62, 33, 38, 39, 38, 34, 49])"
      ]
     },
     "execution_count": 16,
     "metadata": {},
     "output_type": "execute_result"
    }
   ],
   "source": [
    "arr.min(axis = 0)  #column wise"
   ]
  },
  {
   "cell_type": "code",
   "execution_count": 17,
   "id": "cafbecab",
   "metadata": {},
   "outputs": [
    {
     "data": {
      "text/plain": [
       "array([36, 34, 33, 38])"
      ]
     },
     "execution_count": 17,
     "metadata": {},
     "output_type": "execute_result"
    }
   ],
   "source": [
    "arr.min(axis = 1)  #row wise"
   ]
  },
  {
   "cell_type": "code",
   "execution_count": 18,
   "id": "1b947534",
   "metadata": {},
   "outputs": [],
   "source": [
    "# we must use universal function in numpy because normal min max function that povided by python is act differenty in \n",
    "# multidimentional array and we can use axis in numpy as well\n"
   ]
  },
  {
   "cell_type": "markdown",
   "id": "874173c8",
   "metadata": {},
   "source": [
    "## Broadcasting"
   ]
  },
  {
   "cell_type": "code",
   "execution_count": 19,
   "id": "54cb820e",
   "metadata": {},
   "outputs": [],
   "source": [
    "# Broadcasting is nothing but a set of rules applied by NumPy to perform unfuncs on arrays of different sizes."
   ]
  },
  {
   "cell_type": "code",
   "execution_count": 20,
   "id": "a4ed1492",
   "metadata": {},
   "outputs": [],
   "source": [
    "# rule says that the less size array must be streshed equal to larger one then do the operation"
   ]
  },
  {
   "cell_type": "code",
   "execution_count": 21,
   "id": "14b9f961",
   "metadata": {},
   "outputs": [],
   "source": [
    "arr1 = np.arange(3)"
   ]
  },
  {
   "cell_type": "code",
   "execution_count": 22,
   "id": "ae6d931d",
   "metadata": {},
   "outputs": [],
   "source": [
    "arr2 = np.arange(3).reshape(3,1) # reshape changes the shape or array"
   ]
  },
  {
   "cell_type": "code",
   "execution_count": 23,
   "id": "c90369bc",
   "metadata": {},
   "outputs": [
    {
     "data": {
      "text/plain": [
       "array([0, 1, 2])"
      ]
     },
     "execution_count": 23,
     "metadata": {},
     "output_type": "execute_result"
    }
   ],
   "source": [
    "arr1"
   ]
  },
  {
   "cell_type": "code",
   "execution_count": 24,
   "id": "7da43cdc",
   "metadata": {},
   "outputs": [
    {
     "data": {
      "text/plain": [
       "array([[0],\n",
       "       [1],\n",
       "       [2]])"
      ]
     },
     "execution_count": 24,
     "metadata": {},
     "output_type": "execute_result"
    }
   ],
   "source": [
    "arr2"
   ]
  },
  {
   "cell_type": "code",
   "execution_count": 25,
   "id": "2b32d633",
   "metadata": {},
   "outputs": [],
   "source": [
    "arr3 = np.add(arr1,arr2) # in this they both streshed to the 3,3 size"
   ]
  },
  {
   "cell_type": "code",
   "execution_count": 26,
   "id": "92f787cf",
   "metadata": {},
   "outputs": [
    {
     "data": {
      "text/plain": [
       "(3,)"
      ]
     },
     "execution_count": 26,
     "metadata": {},
     "output_type": "execute_result"
    }
   ],
   "source": [
    "arr1.shape #1,3"
   ]
  },
  {
   "cell_type": "code",
   "execution_count": 27,
   "id": "bdf0aaa4",
   "metadata": {},
   "outputs": [
    {
     "data": {
      "text/plain": [
       "(3, 1)"
      ]
     },
     "execution_count": 27,
     "metadata": {},
     "output_type": "execute_result"
    }
   ],
   "source": [
    "arr2.shape"
   ]
  },
  {
   "cell_type": "code",
   "execution_count": 28,
   "id": "27549d9b",
   "metadata": {},
   "outputs": [
    {
     "data": {
      "text/plain": [
       "(3, 3)"
      ]
     },
     "execution_count": 28,
     "metadata": {},
     "output_type": "execute_result"
    }
   ],
   "source": [
    "arr3.shape   # they both streshed to the 3,3 size"
   ]
  },
  {
   "cell_type": "markdown",
   "id": "01c476c8",
   "metadata": {},
   "source": [
    "## Masking"
   ]
  },
  {
   "cell_type": "code",
   "execution_count": 29,
   "id": "183b2686",
   "metadata": {},
   "outputs": [],
   "source": [
    "# It allows us to extract, count, modify or manipulate values in an array based on certain criteria, \n",
    "# these criteria are specified using comparison operators and boolean operators."
   ]
  },
  {
   "cell_type": "code",
   "execution_count": 30,
   "id": "446af7b0",
   "metadata": {},
   "outputs": [],
   "source": [
    "arr = np.random.randint(10 , size= (3,4))"
   ]
  },
  {
   "cell_type": "code",
   "execution_count": 31,
   "id": "71c79969",
   "metadata": {},
   "outputs": [
    {
     "data": {
      "text/plain": [
       "array([[1, 7, 9, 4],\n",
       "       [1, 2, 0, 8],\n",
       "       [4, 5, 9, 6]])"
      ]
     },
     "execution_count": 31,
     "metadata": {},
     "output_type": "execute_result"
    }
   ],
   "source": [
    "arr"
   ]
  },
  {
   "cell_type": "code",
   "execution_count": 32,
   "id": "1b5c314b",
   "metadata": {},
   "outputs": [],
   "source": [
    "# print all values where value is less then 5"
   ]
  },
  {
   "cell_type": "code",
   "execution_count": 33,
   "id": "aef4316c",
   "metadata": {},
   "outputs": [
    {
     "data": {
      "text/plain": [
       "[array([[ True, False, False,  True],\n",
       "        [ True,  True,  True, False],\n",
       "        [ True, False, False, False]])]"
      ]
     },
     "execution_count": 33,
     "metadata": {},
     "output_type": "execute_result"
    }
   ],
   "source": [
    "[arr <5 ] #it give bool array"
   ]
  },
  {
   "cell_type": "code",
   "execution_count": 34,
   "id": "0445bf32",
   "metadata": {},
   "outputs": [
    {
     "data": {
      "text/plain": [
       "array([1, 4, 1, 2, 0, 4])"
      ]
     },
     "execution_count": 34,
     "metadata": {},
     "output_type": "execute_result"
    }
   ],
   "source": [
    "arr[arr < 5]  # inner part of square bracker gives the array of boolean and if the value is true so outer 'arr' will print other wise false"
   ]
  },
  {
   "cell_type": "code",
   "execution_count": 35,
   "id": "2b75b661",
   "metadata": {},
   "outputs": [],
   "source": [
    "# we can do the complex queries from that like we do in conditional statement"
   ]
  },
  {
   "cell_type": "code",
   "execution_count": 36,
   "id": "6fed0a0e",
   "metadata": {},
   "outputs": [
    {
     "data": {
      "text/plain": [
       "array([4, 4, 5])"
      ]
     },
     "execution_count": 36,
     "metadata": {},
     "output_type": "execute_result"
    }
   ],
   "source": [
    "arr[(arr < 6 ) & ( arr > 3 )]"
   ]
  },
  {
   "cell_type": "code",
   "execution_count": 37,
   "id": "66b4afd8",
   "metadata": {},
   "outputs": [],
   "source": [
    "# The keyword ‘and’ and ‘or’ performs single boolean operation on entire array while \n",
    "# bitwise ‘&’ and ‘|’ performs multiple boolean operations on elements of an array. \n",
    "# Always use bit-wise operators while masking."
   ]
  },
  {
   "cell_type": "markdown",
   "id": "fa739121",
   "metadata": {},
   "source": [
    "## Fancy indexing"
   ]
  },
  {
   "cell_type": "code",
   "execution_count": 38,
   "id": "b629b91f",
   "metadata": {},
   "outputs": [],
   "source": [
    "arr = np.random.randint(50 , size = 20)"
   ]
  },
  {
   "cell_type": "code",
   "execution_count": 39,
   "id": "063df53f",
   "metadata": {},
   "outputs": [
    {
     "data": {
      "text/plain": [
       "array([17,  5, 24, 38, 23, 27, 31,  6, 10, 39,  2,  9,  3, 13, 47, 11, 16,\n",
       "       29, 21,  3])"
      ]
     },
     "execution_count": 39,
     "metadata": {},
     "output_type": "execute_result"
    }
   ],
   "source": [
    "arr"
   ]
  },
  {
   "cell_type": "code",
   "execution_count": 40,
   "id": "9571a650",
   "metadata": {},
   "outputs": [
    {
     "name": "stdout",
     "output_type": "stream",
     "text": [
      "24 6\n"
     ]
    }
   ],
   "source": [
    "print(arr[2] , arr[7])"
   ]
  },
  {
   "cell_type": "code",
   "execution_count": 41,
   "id": "dc04c4f7",
   "metadata": {},
   "outputs": [],
   "source": [
    "#we can improve that "
   ]
  },
  {
   "cell_type": "code",
   "execution_count": 42,
   "id": "e602f400",
   "metadata": {},
   "outputs": [
    {
     "data": {
      "text/plain": [
       "array([24,  6])"
      ]
     },
     "execution_count": 42,
     "metadata": {},
     "output_type": "execute_result"
    }
   ],
   "source": [
    "arr[[2,7]]  # it takes array of indexes "
   ]
  },
  {
   "cell_type": "code",
   "execution_count": 43,
   "id": "318c49a2",
   "metadata": {},
   "outputs": [],
   "source": [
    "# for 2d array"
   ]
  },
  {
   "cell_type": "code",
   "execution_count": 44,
   "id": "f88dabc2",
   "metadata": {},
   "outputs": [],
   "source": [
    "arr = np.random.randint(30 , size = (10,5))"
   ]
  },
  {
   "cell_type": "code",
   "execution_count": 45,
   "id": "30778241",
   "metadata": {},
   "outputs": [
    {
     "data": {
      "text/plain": [
       "array([[15, 12, 27,  1, 21],\n",
       "       [17, 29, 14, 12,  3],\n",
       "       [ 2,  7, 13,  4,  4],\n",
       "       [14,  8,  8, 17, 22],\n",
       "       [ 1, 23,  8, 28,  3],\n",
       "       [ 3,  1, 23,  2, 29],\n",
       "       [23, 23, 19, 23, 26],\n",
       "       [14,  5,  7, 13, 12],\n",
       "       [ 5, 18, 26,  8,  0],\n",
       "       [ 0,  0, 24, 26,  9]])"
      ]
     },
     "execution_count": 45,
     "metadata": {},
     "output_type": "execute_result"
    }
   ],
   "source": [
    "arr"
   ]
  },
  {
   "cell_type": "code",
   "execution_count": 46,
   "id": "a7da4ac7",
   "metadata": {},
   "outputs": [
    {
     "data": {
      "text/plain": [
       "array([ 4,  8,  4, 14])"
      ]
     },
     "execution_count": 46,
     "metadata": {},
     "output_type": "execute_result"
    }
   ],
   "source": [
    "row = [2,3,2,1]\n",
    "col = [3,1,3,2]\n",
    "arr[row , col]"
   ]
  },
  {
   "cell_type": "code",
   "execution_count": 47,
   "id": "4d96e82f",
   "metadata": {},
   "outputs": [
    {
     "data": {
      "text/plain": [
       "array([17,  8, 17,  8])"
      ]
     },
     "execution_count": 47,
     "metadata": {},
     "output_type": "execute_result"
    }
   ],
   "source": [
    "arr[ 3, col]"
   ]
  },
  {
   "cell_type": "markdown",
   "id": "b29b3a7e",
   "metadata": {},
   "source": [
    "## Sorting"
   ]
  },
  {
   "cell_type": "code",
   "execution_count": 48,
   "id": "21a55a30",
   "metadata": {},
   "outputs": [],
   "source": [
    "# np.sort is a more efficient sorting function than Python’s built-in sort function. \n",
    "# Additionally, np.sort is aware of dimensions"
   ]
  },
  {
   "cell_type": "code",
   "execution_count": 49,
   "id": "8f9778d8",
   "metadata": {},
   "outputs": [],
   "source": [
    "arr = np.random.randint(30 , size = 20)"
   ]
  },
  {
   "cell_type": "code",
   "execution_count": 50,
   "id": "3aca46a2",
   "metadata": {},
   "outputs": [
    {
     "data": {
      "text/plain": [
       "array([15, 22, 11, 23, 15, 17,  9, 10,  2, 25, 22,  0, 15, 23, 12, 28,  2,\n",
       "        6, 14, 22])"
      ]
     },
     "execution_count": 50,
     "metadata": {},
     "output_type": "execute_result"
    }
   ],
   "source": [
    "arr"
   ]
  },
  {
   "cell_type": "code",
   "execution_count": 51,
   "id": "a33229d5",
   "metadata": {},
   "outputs": [],
   "source": [
    "arr.sort()  # the sorting in numpy is in-place sorting means we lost the order of previous array"
   ]
  },
  {
   "cell_type": "code",
   "execution_count": 52,
   "id": "2e7b3c90",
   "metadata": {},
   "outputs": [
    {
     "data": {
      "text/plain": [
       "array([ 0,  2,  2,  6,  9, 10, 11, 12, 14, 15, 15, 15, 17, 22, 22, 22, 23,\n",
       "       23, 25, 28])"
      ]
     },
     "execution_count": 52,
     "metadata": {},
     "output_type": "execute_result"
    }
   ],
   "source": [
    "arr"
   ]
  },
  {
   "cell_type": "code",
   "execution_count": null,
   "id": "c980b5df",
   "metadata": {},
   "outputs": [],
   "source": [
    "arr = np.random.randint(30 , size = (10,10))"
   ]
  }
 ],
 "metadata": {
  "kernelspec": {
   "display_name": "Python 3 (ipykernel)",
   "language": "python",
   "name": "python3"
  },
  "language_info": {
   "codemirror_mode": {
    "name": "ipython",
    "version": 3
   },
   "file_extension": ".py",
   "mimetype": "text/x-python",
   "name": "python",
   "nbconvert_exporter": "python",
   "pygments_lexer": "ipython3",
   "version": "3.10.0"
  }
 },
 "nbformat": 4,
 "nbformat_minor": 5
}
